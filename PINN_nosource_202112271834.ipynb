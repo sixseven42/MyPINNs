{
 "cells": [
  {
   "cell_type": "markdown",
   "metadata": {},
   "source": [
    "# PINN解波动方程代码（Pytorch）\n",
    "作者：刘祺\n",
    "日期：20211124"
   ]
  },
  {
   "cell_type": "markdown",
   "metadata": {},
   "source": [
    "时间：20211103\n",
    "改动：   \n",
    "\n",
    "1.加入了画损失函数下降图的功能  \n",
    "2.加入了绘图功能  \n",
    "3.将DNN部分的定义改为使用sequential而不是简单的传播形式，更加美观  \n",
    "\n",
    "时间：20211110  \n",
    "改动：  \n",
    "\n",
    "1.加入了Animator类，实现了损失函数下降的实时可视化\n",
    "\n",
    "时间：20211124  \n",
    "改动：  \n",
    "\n",
    "1.将数据处理环节更加简便，加入了模型存储功能  \n",
    "\n",
    "时间：20211227  \n",
    "改动：  \n",
    "1.加入tensorboard可视化loss下降曲线  \n",
    "2.删除Animator类"
   ]
  },
  {
   "cell_type": "markdown",
   "metadata": {},
   "source": [
    "## 模块导入"
   ]
  },
  {
   "cell_type": "code",
   "execution_count": 97,
   "metadata": {},
   "outputs": [],
   "source": [
    "import sys\n",
    "import torch\n",
    "from collections import OrderedDict\n",
    "from pyDOE import lhs\n",
    "import numpy as np\n",
    "import matplotlib.pyplot as plt\n",
    "import scipy.io\n",
    "from scipy.interpolate import griddata\n",
    "from mpl_toolkits.axes_grid1 import make_axes_locatable\n",
    "import matplotlib.gridspec as gridspec\n",
    "import time\n",
    "import torch.nn as nn\n",
    "import torch\n",
    "import torchvision\n",
    "from torch.utils import data\n",
    "from torchvision import transforms\n",
    "from d2l import torch as d2l\n",
    "import IPython\n",
    "from IPython import display\n",
    "import torch.optim.lr_scheduler as lr_scheduler"
   ]
  },
  {
   "cell_type": "markdown",
   "metadata": {},
   "source": [
    "如果存在gpu，则使用gpu进行计算"
   ]
  },
  {
   "cell_type": "code",
   "execution_count": 98,
   "metadata": {},
   "outputs": [
    {
     "name": "stdout",
     "output_type": "stream",
     "text": [
      "True\n"
     ]
    }
   ],
   "source": [
    "# 是否支持cuda\n",
    "if torch.cuda.is_available():\n",
    "    device = torch.device('cuda')\n",
    "else:\n",
    "    device = torch.device('cpu')\n",
    "#是否支持gpu计算\n",
    "print(torch.cuda.is_available())"
   ]
  },
  {
   "cell_type": "markdown",
   "metadata": {},
   "source": [
    "## 定义DNN结构"
   ]
  },
  {
   "cell_type": "code",
   "execution_count": 99,
   "metadata": {},
   "outputs": [],
   "source": [
    "class DNN(torch.nn.Module):\n",
    "    def __init__(self,layers):\n",
    "        super(DNN, self).__init__()\n",
    "        self.depth=len(layers)-1\n",
    "        self.activation=torch.nn.Tanh\n",
    "        layer_list=list()\n",
    "        for i in range(self.depth-1):\n",
    "            layer_list.append(\n",
    "                ('layer_%d'%i,torch.nn.Linear(layers[i],layers[i+1]))\n",
    "            )\n",
    "            layer_list.append(('activation_%d'%i,self.activation()))\n",
    "        layer_list.append(\n",
    "            ('layer_%d' % (self.depth - 1), torch.nn.Linear(layers[-2], layers[-1]))\n",
    "        )\n",
    "        layerDict = OrderedDict(layer_list)#如果不加入ordereddict则字典中元素顺序可能会改变\n",
    "        self.layers=torch.nn.Sequential(layerDict)\n",
    "    def forward(self,x):\n",
    "        out=self.layers(x)\n",
    "        return out\n"
   ]
  },
  {
   "cell_type": "markdown",
   "metadata": {},
   "source": [
    "# 有关PINN参数的设置（包含边界条件初值条件等）"
   ]
  },
  {
   "cell_type": "code",
   "execution_count": 100,
   "metadata": {},
   "outputs": [
    {
     "name": "stdout",
     "output_type": "stream",
     "text": [
      "DNN(\n",
      "  (layers): Sequential(\n",
      "    (layer_0): Linear(in_features=3, out_features=40, bias=True)\n",
      "    (activation_0): Tanh()\n",
      "    (layer_1): Linear(in_features=40, out_features=40, bias=True)\n",
      "    (activation_1): Tanh()\n",
      "    (layer_2): Linear(in_features=40, out_features=40, bias=True)\n",
      "    (activation_2): Tanh()\n",
      "    (layer_3): Linear(in_features=40, out_features=40, bias=True)\n",
      "    (activation_3): Tanh()\n",
      "    (layer_4): Linear(in_features=40, out_features=1, bias=True)\n",
      "  )\n",
      ") [3, 40, 40, 40, 40, 1]\n"
     ]
    }
   ],
   "source": [
    "layers=[3,40,40,40,40,1]\n",
    "net=DNN(layers)\n",
    "print(net,layers)\n",
    "net=net.to(device)\n",
    "\n",
    "#激活函数以及优化器\n",
    "mse_cost_function = torch.nn.MSELoss(reduction='mean')  # Mean squared error\n",
    "optimizer = torch.optim.Adam(net.parameters(),lr=0.005)\n",
    "scheduler = lr_scheduler.ReduceLROnPlateau(optimizer, mode='min', factor=0.1, patience=100, verbose=False, threshold=0.0001, threshold_mode='rel', cooldown=0, min_lr=0, eps=1e-08)\n"
   ]
  },
  {
   "cell_type": "code",
   "execution_count": 101,
   "metadata": {},
   "outputs": [
    {
     "data": {
      "text/plain": [
       "DNN(\n",
       "  (layers): Sequential(\n",
       "    (layer_0): Linear(in_features=3, out_features=40, bias=True)\n",
       "    (activation_0): Tanh()\n",
       "    (layer_1): Linear(in_features=40, out_features=40, bias=True)\n",
       "    (activation_1): Tanh()\n",
       "    (layer_2): Linear(in_features=40, out_features=40, bias=True)\n",
       "    (activation_2): Tanh()\n",
       "    (layer_3): Linear(in_features=40, out_features=40, bias=True)\n",
       "    (activation_3): Tanh()\n",
       "    (layer_4): Linear(in_features=40, out_features=1, bias=True)\n",
       "  )\n",
       ")"
      ]
     },
     "execution_count": 101,
     "metadata": {},
     "output_type": "execute_result"
    }
   ],
   "source": [
    "#参数初始化\n",
    "def init_normal(m):\n",
    "    if type(m) == nn.Linear:\n",
    "        nn.init.normal_(m.weight, mean=0, std=0.01)\n",
    "        nn.init.zeros_(m.bias)\n",
    "net.apply(init_normal)"
   ]
  },
  {
   "cell_type": "markdown",
   "metadata": {},
   "source": [
    "## 方程对应的函数"
   ]
  },
  {
   "cell_type": "code",
   "execution_count": 102,
   "metadata": {},
   "outputs": [],
   "source": [
    "def wave_function(x,y,t,net):\n",
    "    u=net(torch.cat([x,y,t],dim=1))\n",
    "\n",
    "    u_x = torch.autograd.grad(u.sum(), x, create_graph=True)[0]\n",
    "    u_xx = torch.autograd.grad(u_x.sum(), x, create_graph=True)[0]\n",
    "    u_y = torch.autograd.grad(u.sum(), y, create_graph=True)[0]\n",
    "    u_yy = torch.autograd.grad(u_y.sum(), y, create_graph=True)[0]\n",
    "    u_t = torch.autograd.grad(u.sum(), t, create_graph=True)[0]\n",
    "    u_tt = torch.autograd.grad(u_t.sum(), t, create_graph=True)[0]\n",
    "\n",
    "    loss_wf=u_tt-4*(u_xx+u_yy)\n",
    "\n",
    "    return loss_wf\n"
   ]
  },
  {
   "cell_type": "markdown",
   "metadata": {},
   "source": [
    "## 边界条件对应的损失函数"
   ]
  },
  {
   "cell_type": "code",
   "execution_count": 103,
   "metadata": {},
   "outputs": [],
   "source": [
    "def initial_condition(x,y,t,net):\n",
    "    u=net(torch.cat([x,y,t],dim=1))\n",
    "    u_t = torch.autograd.grad(u.sum(), t, create_graph=True)[0]\n",
    "\n",
    "    return u_t\n"
   ]
  },
  {
   "cell_type": "markdown",
   "metadata": {},
   "source": [
    "## 配置点以及初值点边值点的处理"
   ]
  },
  {
   "cell_type": "code",
   "execution_count": 104,
   "metadata": {},
   "outputs": [
    {
     "name": "stdout",
     "output_type": "stream",
     "text": [
      "(50653, 1)\n",
      "(50653, 3)\n"
     ]
    }
   ],
   "source": [
    "#参数设置\n",
    "x=np.linspace(0,4*np.pi,37)\n",
    "#x=np.random.uniform(0.0,4*np.pi,37)\n",
    "y=np.linspace(0,4*np.pi,37)\n",
    "#y=np.random.uniform(0.0,4*np.pi,37)\n",
    "t=np.linspace(0,np.pi*np.sqrt(8),37)\n",
    "x_mesh,y_mesh,t_mesh=np.meshgrid(x,y,t)\n",
    "x_use=x_mesh.reshape((-1,1))\n",
    "y_use=y_mesh.reshape((-1,1))\n",
    "t_use=t_mesh.reshape((-1,1))\n",
    "xyt_use=np.hstack((x_use,y_use,t_use))\n",
    "#初值条件\n",
    "x_cz_mesh,y_cz_mesh=np.meshgrid(x,y)\n",
    "x_cz_use=x_cz_mesh.reshape((-1,1))\n",
    "y_cz_use=y_cz_mesh.reshape((-1,1))\n",
    "t_cz=np.zeros_like(x_cz_use)\n",
    "xyt_cz=np.hstack((x_cz_use,y_cz_use,t_cz))\n",
    "u_cz=2*np.sin(xyt_cz[:,0:1]/4)*np.sin(xyt_cz[:,1:2]/4)\n",
    "ut_cz=4/np.sqrt(8)*np.sin(xyt_cz[:,0:1]*np.pi/4)*np.sin(xyt_cz[:,1:2]*np.pi/4)\n",
    "#边界条件\n",
    "#x=0\n",
    "x_x0=np.zeros_like(y)\n",
    "x_x0_mesh,y_x0_mesh,t_x0_mesh=np.meshgrid(x_x0,y,t)\n",
    "x_x0_use=x_x0_mesh.reshape((-1,1))\n",
    "y_x0_use=y_x0_mesh.reshape((-1,1))\n",
    "t_x0_use=t_x0_mesh.reshape((-1,1))\n",
    "xyt_x0_use=np.hstack((x_x0_use,y_x0_use,t_x0_use))\n",
    "#x=4pi\n",
    "x_xa=4*np.pi*np.ones_like(y)\n",
    "x_xa_mesh,y_xa_mesh,t_xa_mesh=np.meshgrid(x_xa,y,t)\n",
    "x_xa_use=x_xa_mesh.reshape((-1,1))\n",
    "y_xa_use=y_xa_mesh.reshape((-1,1))\n",
    "t_xa_use=t_xa_mesh.reshape((-1,1))\n",
    "xyt_xa_use=np.hstack((x_xa_use,y_xa_use,t_xa_use))\n",
    "#y=0\n",
    "y_y0=np.zeros_like(y)\n",
    "x_y0_mesh,y_y0_mesh,t_y0_mesh=np.meshgrid(x,y_y0,t)\n",
    "x_y0_use=x_y0_mesh.reshape((-1,1))\n",
    "y_y0_use=y_y0_mesh.reshape((-1,1))\n",
    "t_y0_use=t_y0_mesh.reshape((-1,1))\n",
    "xyt_y0_use=np.hstack((x_y0_use,y_y0_use,t_y0_use))\n",
    "#y=4pi\n",
    "y_ya=4*np.pi*np.ones_like(y)\n",
    "x_ya_mesh,y_ya_mesh,t_ya_mesh=np.meshgrid(x,y_ya,t)\n",
    "x_ya_use=x_ya_mesh.reshape((-1,1))\n",
    "y_ya_use=y_ya_mesh.reshape((-1,1))\n",
    "t_ya_use=t_ya_mesh.reshape((-1,1))\n",
    "xyt_ya_use=np.hstack((x_ya_use,y_ya_use,t_ya_use))\n",
    "\n",
    "xyt_boundary=np.vstack((xyt_x0_use,xyt_xa_use,xyt_y0_use,xyt_ya_use))\n",
    "\n",
    "\n",
    "x_mesh_pre,y_mesh_pre=np.meshgrid(x,y)\n",
    "x_use_pre=np.reshape(x_mesh_pre,(-1,1))\n",
    "y_use_pre=np.reshape(y_mesh_pre,(-1,1))\n",
    "t_pred1=np.ones_like(x_use_pre)*1.51\n",
    "t_pred2=np.ones_like(x_use_pre)*5.60\n",
    "xyt_pred1=np.hstack((x_use_pre,y_use_pre,t_pred1))\n",
    "xyt_pred2=np.hstack((x_use_pre,y_use_pre,t_pred2))\n",
    "print(x_use.shape)\n",
    "print(xyt_x0_use.shape)\n",
    "\n"
   ]
  },
  {
   "cell_type": "markdown",
   "metadata": {},
   "source": [
    "## 将numpy数据转化为可以用于PINN的数据"
   ]
  },
  {
   "cell_type": "code",
   "execution_count": 105,
   "metadata": {},
   "outputs": [
    {
     "name": "stdout",
     "output_type": "stream",
     "text": [
      "torch.Size([202612, 3])\n"
     ]
    }
   ],
   "source": [
    "x_train=torch.tensor(xyt_use[:,0:1],requires_grad=True).float().to(device)\n",
    "y_train=torch.tensor(xyt_use[:,1:2],requires_grad=True).float().to(device)\n",
    "t_train=torch.tensor(xyt_use[:,2:3],requires_grad=True).float().to(device)\n",
    "x_cz=torch.tensor(xyt_cz[:,0:1],requires_grad=True).float().to(device)\n",
    "y_cz=torch.tensor(xyt_cz[:,1:2],requires_grad=True).float().to(device)\n",
    "t_cz=torch.tensor(xyt_cz[:,2:3],requires_grad=True).float().to(device)\n",
    "u_cz=torch.tensor(u_cz).float().to(device)\n",
    "ut_cz=torch.tensor(ut_cz).float().to(device)\n",
    "x_bz = torch.tensor(xyt_boundary[:, 0:1], requires_grad=True).float().to(device)\n",
    "y_bz = torch.tensor(xyt_boundary[:, 1:2], requires_grad=True).float().to(device)\n",
    "t_bz = torch.tensor(xyt_boundary[:, 2:3], requires_grad=True).float().to(device)\n",
    "\n",
    "xyt_cz_tensor=torch.tensor(xyt_cz,requires_grad=True).float().to(device)\n",
    "xyt_boundary_tensor=torch.tensor(xyt_boundary,requires_grad=True).float().to(device)\n",
    "print(xyt_boundary_tensor.shape)"
   ]
  },
  {
   "cell_type": "markdown",
   "metadata": {},
   "source": [
    "# 开始训练"
   ]
  },
  {
   "cell_type": "code",
   "execution_count": 106,
   "metadata": {},
   "outputs": [
    {
     "name": "stdout",
     "output_type": "stream",
     "text": [
      "0 Training Loss: tensor(1.3891, device='cuda:0')\n",
      "10 Training Loss: tensor(1.0705, device='cuda:0')\n",
      "20 Training Loss: tensor(0.9900, device='cuda:0')\n",
      "30 Training Loss: tensor(0.9562, device='cuda:0')\n",
      "40 Training Loss: tensor(0.9331, device='cuda:0')\n",
      "50 Training Loss: tensor(0.9176, device='cuda:0')\n",
      "60 Training Loss: tensor(0.9094, device='cuda:0')\n",
      "70 Training Loss: tensor(0.8970, device='cuda:0')\n",
      "80 Training Loss: tensor(0.8744, device='cuda:0')\n",
      "90 Training Loss: tensor(0.7993, device='cuda:0')\n",
      "100 Training Loss: tensor(0.6762, device='cuda:0')\n",
      "110 Training Loss: tensor(0.6239, device='cuda:0')\n",
      "120 Training Loss: tensor(0.5866, device='cuda:0')\n",
      "130 Training Loss: tensor(0.5673, device='cuda:0')\n",
      "140 Training Loss: tensor(0.5510, device='cuda:0')\n",
      "150 Training Loss: tensor(0.5341, device='cuda:0')\n",
      "160 Training Loss: tensor(0.5468, device='cuda:0')\n",
      "170 Training Loss: tensor(0.5078, device='cuda:0')\n",
      "180 Training Loss: tensor(0.5035, device='cuda:0')\n",
      "190 Training Loss: tensor(0.4877, device='cuda:0')\n",
      "200 Training Loss: tensor(0.5893, device='cuda:0')\n",
      "210 Training Loss: tensor(0.4643, device='cuda:0')\n",
      "220 Training Loss: tensor(0.4539, device='cuda:0')\n",
      "230 Training Loss: tensor(0.4299, device='cuda:0')\n",
      "240 Training Loss: tensor(0.4129, device='cuda:0')\n",
      "250 Training Loss: tensor(0.4037, device='cuda:0')\n",
      "260 Training Loss: tensor(0.3869, device='cuda:0')\n",
      "270 Training Loss: tensor(0.3845, device='cuda:0')\n",
      "280 Training Loss: tensor(0.3690, device='cuda:0')\n",
      "290 Training Loss: tensor(0.3619, device='cuda:0')\n",
      "300 Training Loss: tensor(0.3565, device='cuda:0')\n",
      "310 Training Loss: tensor(0.3472, device='cuda:0')\n",
      "320 Training Loss: tensor(0.3396, device='cuda:0')\n",
      "330 Training Loss: tensor(0.3334, device='cuda:0')\n",
      "340 Training Loss: tensor(0.3800, device='cuda:0')\n",
      "350 Training Loss: tensor(0.3238, device='cuda:0')\n",
      "360 Training Loss: tensor(0.3241, device='cuda:0')\n",
      "370 Training Loss: tensor(0.3132, device='cuda:0')\n",
      "380 Training Loss: tensor(0.3070, device='cuda:0')\n",
      "390 Training Loss: tensor(0.3011, device='cuda:0')\n",
      "400 Training Loss: tensor(0.3075, device='cuda:0')\n",
      "410 Training Loss: tensor(0.3036, device='cuda:0')\n",
      "420 Training Loss: tensor(0.2894, device='cuda:0')\n",
      "430 Training Loss: tensor(0.2842, device='cuda:0')\n",
      "440 Training Loss: tensor(0.2776, device='cuda:0')\n",
      "450 Training Loss: tensor(0.2733, device='cuda:0')\n",
      "460 Training Loss: tensor(0.2732, device='cuda:0')\n",
      "470 Training Loss: tensor(0.2691, device='cuda:0')\n",
      "480 Training Loss: tensor(0.2615, device='cuda:0')\n",
      "490 Training Loss: tensor(0.2589, device='cuda:0')\n",
      "500 Training Loss: tensor(0.2547, device='cuda:0')\n",
      "510 Training Loss: tensor(0.2491, device='cuda:0')\n",
      "520 Training Loss: tensor(0.3528, device='cuda:0')\n",
      "530 Training Loss: tensor(0.2616, device='cuda:0')\n",
      "540 Training Loss: tensor(0.2602, device='cuda:0')\n",
      "550 Training Loss: tensor(0.2364, device='cuda:0')\n",
      "560 Training Loss: tensor(0.2325, device='cuda:0')\n",
      "570 Training Loss: tensor(0.2269, device='cuda:0')\n",
      "580 Training Loss: tensor(0.2227, device='cuda:0')\n",
      "590 Training Loss: tensor(0.2166, device='cuda:0')\n",
      "600 Training Loss: tensor(0.2432, device='cuda:0')\n",
      "610 Training Loss: tensor(0.2419, device='cuda:0')\n",
      "620 Training Loss: tensor(0.2065, device='cuda:0')\n",
      "630 Training Loss: tensor(0.1990, device='cuda:0')\n",
      "640 Training Loss: tensor(0.1954, device='cuda:0')\n",
      "650 Training Loss: tensor(0.2010, device='cuda:0')\n",
      "660 Training Loss: tensor(0.1907, device='cuda:0')\n",
      "670 Training Loss: tensor(0.1801, device='cuda:0')\n",
      "680 Training Loss: tensor(0.1756, device='cuda:0')\n",
      "690 Training Loss: tensor(0.1732, device='cuda:0')\n",
      "700 Training Loss: tensor(0.1601, device='cuda:0')\n",
      "710 Training Loss: tensor(0.2344, device='cuda:0')\n",
      "720 Training Loss: tensor(0.1531, device='cuda:0')\n",
      "730 Training Loss: tensor(0.1517, device='cuda:0')\n",
      "740 Training Loss: tensor(0.1429, device='cuda:0')\n",
      "750 Training Loss: tensor(0.1353, device='cuda:0')\n",
      "760 Training Loss: tensor(0.1330, device='cuda:0')\n",
      "770 Training Loss: tensor(0.1514, device='cuda:0')\n",
      "780 Training Loss: tensor(0.1385, device='cuda:0')\n",
      "790 Training Loss: tensor(0.1286, device='cuda:0')\n",
      "800 Training Loss: tensor(0.1249, device='cuda:0')\n",
      "810 Training Loss: tensor(0.1231, device='cuda:0')\n",
      "820 Training Loss: tensor(0.1283, device='cuda:0')\n",
      "830 Training Loss: tensor(0.1231, device='cuda:0')\n",
      "840 Training Loss: tensor(0.1144, device='cuda:0')\n",
      "850 Training Loss: tensor(0.1140, device='cuda:0')\n",
      "860 Training Loss: tensor(0.1217, device='cuda:0')\n",
      "870 Training Loss: tensor(0.1087, device='cuda:0')\n",
      "880 Training Loss: tensor(0.1044, device='cuda:0')\n",
      "890 Training Loss: tensor(0.1046, device='cuda:0')\n",
      "900 Training Loss: tensor(0.1015, device='cuda:0')\n",
      "910 Training Loss: tensor(0.0979, device='cuda:0')\n",
      "920 Training Loss: tensor(0.1604, device='cuda:0')\n",
      "930 Training Loss: tensor(0.1059, device='cuda:0')\n",
      "940 Training Loss: tensor(0.0942, device='cuda:0')\n",
      "950 Training Loss: tensor(0.0931, device='cuda:0')\n",
      "960 Training Loss: tensor(0.0902, device='cuda:0')\n",
      "970 Training Loss: tensor(0.0884, device='cuda:0')\n",
      "980 Training Loss: tensor(0.0866, device='cuda:0')\n",
      "990 Training Loss: tensor(0.1195, device='cuda:0')\n"
     ]
    }
   ],
   "source": [
    "#引入tensorboard\n",
    "from tensorboardX import SummaryWriter\n",
    "writer=SummaryWriter()\n",
    "\n",
    "\n",
    "max_epoch=1000\n",
    "Loaded_loss = np.zeros(max_epoch)\n",
    "for epoch in range(max_epoch):\n",
    "    optimizer.zero_grad()\n",
    "    if hasattr(torch.cuda, 'empty_cache'):  # 释放显存\n",
    "        torch.cuda.empty_cache()\n",
    "    \n",
    "\n",
    "    loss_wf=torch.mean(wave_function(x_train,y_train,t_train,net)**2)\n",
    "    loss_cz=torch.mean(((net(xyt_cz_tensor))-u_cz)**2)\n",
    "    loss_cz_ut=torch.mean((initial_condition(x_cz,y_cz,t_cz,net)-ut_cz)**2)\n",
    "    loss_bz=torch.mean(net(xyt_boundary_tensor)**2)\n",
    "\n",
    "    loss=loss_wf+loss_cz+loss_cz_ut+loss_bz\n",
    "    loss.backward()\n",
    "    optimizer.step()\n",
    "    scheduler.step(loss)\n",
    "\n",
    "    with torch.autograd.no_grad():\n",
    "        Loaded_loss[epoch] = loss.data.cpu().numpy()\n",
    "        if epoch%10==0:\n",
    "            print(epoch, \"Training Loss:\", loss.data)\n",
    "    writer.add_scalar('loss',loss,epoch)\n",
    "writer.close()\n",
    "\n",
    "\n",
    "#predict\n",
    "def predict(X):\n",
    "        x=torch.tensor(X[:,0:1],requires_grad=True).float().to(device)\n",
    "        y =torch.tensor(X[:, 1:2], requires_grad=True).float().to(device)\n",
    "        t=torch.tensor(X[:,2:3],requires_grad=True).float().to(device)\n",
    "\n",
    "        net.eval()\n",
    "        canshu=net(torch.cat([x,y,t],dim=1))\n",
    "        canshu=canshu.detach().cpu().numpy()\n",
    "\n",
    "        return canshu\n",
    "pred1=predict(xyt_pred1)\n",
    "pred2=predict(xyt_pred2)\n",
    "scipy.io.savemat('111.mat',{'test1':pred1,'test2':pred2})\n",
    "\n"
   ]
  },
  {
   "cell_type": "markdown",
   "metadata": {},
   "source": [
    "## 存储模型"
   ]
  },
  {
   "cell_type": "code",
   "execution_count": 107,
   "metadata": {},
   "outputs": [],
   "source": [
    "torch.save(net.state_dict(), 'wave function.params ')#state_dict存储状态参数，格式为（layer_n.weight,data） "
   ]
  },
  {
   "cell_type": "code",
   "execution_count": 108,
   "metadata": {},
   "outputs": [
    {
     "data": {
      "image/png": "[encoded data removed]",
      "text/plain": [
       "<Figure size 432x288 with 1 Axes>"
      ]
     },
     "metadata": {
      "needs_background": "light"
     },
     "output_type": "display_data"
    }
   ],
   "source": [
    "\n",
    "from mpl_toolkits.mplot3d import Axes3D\n",
    "import matplotlib.pyplot as plt\n",
    "from matplotlib import cm\n",
    "from matplotlib.ticker import LinearLocator, FormatStrFormatter\n",
    "import numpy as np\n",
    "## 画损失函数图线\n",
    "fig3 = plt.figure(\"Loss_log10\")\n",
    "bx = fig3.add_subplot(111)\n",
    "bx.plot(np.log10(Loaded_loss))\n",
    "\n",
    "plt.show()"
   ]
  },
  {
   "cell_type": "code",
   "execution_count": 109,
   "metadata": {},
   "outputs": [],
   "source": [
    "from mpl_toolkits.mplot3d import Axes3D\n",
    "import matplotlib.pyplot as plt\n",
    "from matplotlib import cm\n",
    "from matplotlib.ticker import LinearLocator, FormatStrFormatter\n",
    "import numpy as np"
   ]
  },
  {
   "cell_type": "code",
   "execution_count": 110,
   "metadata": {},
   "outputs": [
    {
     "data": {
      "image/png": "[encoded data removed]",
      "text/plain": [
       "<Figure size 432x288 with 2 Axes>"
      ]
     },
     "metadata": {
      "needs_background": "light"
     },
     "output_type": "display_data"
    },
    {
     "data": {
      "text/plain": [
       "<Figure size 432x288 with 0 Axes>"
      ]
     },
     "metadata": {},
     "output_type": "display_data"
    }
   ],
   "source": [
    "fig1 = plt.figure(\"velocity\")\n",
    "ax = fig1.add_subplot(111)\n",
    "ax.invert_yaxis()\n",
    "ax.xaxis.set_ticks_position('top')  # 这里设置y轴反向表示深度，x轴坐标放在顶部\n",
    "\n",
    "x_grid = np.linspace(0.0, 4*np.pi, 37)\n",
    "y_grid = np.linspace(0.0, 4*np.pi, 37)\n",
    "X, Y = np.meshgrid(x, y)\n",
    "u=pred2.reshape((37,37))\n",
    "\n",
    "## 设置xy轴标签\n",
    "plt.gca().set_xlabel(\"x (Lateral)\", fontsize=18)\n",
    "plt.gca().set_ylabel(\"y (Depth)\", fontsize=18)\n",
    "\n",
    "field_v = ax.pcolor(X, Y, u, cmap=cm.get_cmap('coolwarm'), shading='auto')\n",
    "fig1.colorbar(field_v, shrink=0.5, aspect=5)  # 添加颜色条\n",
    "plt.show()\n",
    "plt.savefig(\"l.png\")\n",
    "\n",
    "\n"
   ]
  }
 ],
 "metadata": {
  "interpreter": {
   "hash": "4c4d4b872bec3579eb6cd2177d3bc528e8a5b762ffd291a225eef161790b1999"
  },
  "kernelspec": {
   "display_name": "Python 3.9.7 64-bit ('pytorch1': conda)",
   "name": "python3"
  },
  "language_info": {
   "codemirror_mode": {
    "name": "ipython",
    "version": 3
   },
   "file_extension": ".py",
   "mimetype": "text/x-python",
   "name": "python",
   "nbconvert_exporter": "python",
   "pygments_lexer": "ipython3",
   "version": "3.9.7"
  },
  "orig_nbformat": 4
 },
 "nbformat": 4,
 "nbformat_minor": 2
}
